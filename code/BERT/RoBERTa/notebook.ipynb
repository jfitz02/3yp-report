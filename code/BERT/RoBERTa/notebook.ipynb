{
 "cells": [
  {
   "cell_type": "code",
   "execution_count": 3,
   "metadata": {},
   "outputs": [
    {
     "name": "stdout",
     "output_type": "stream",
     "text": [
      "Predicted label: 17\n"
     ]
    }
   ],
   "source": [
    "from transformers import AutoTokenizer, AutoModelForSequenceClassification\n",
    "\n",
    "tokenizer = AutoTokenizer.from_pretrained(\"MrFitzmaurice/roberta-finetuned-topic-3\")\n",
    "\n",
    "model = AutoModelForSequenceClassification.from_pretrained(\"MrFitzmaurice/roberta-finetuned-topic-3\")\n",
    "\n",
    "# write me a tweet\n",
    "text = \"I'm so excited to be using the 🤗 Transformers library to do sentiment analysis!\"\n",
    "inputs = tokenizer(text, return_tensors=\"pt\")\n",
    "outputs = model(**inputs)\n",
    "\n",
    "# get the predicted label\n",
    "prediction = outputs.logits.argmax().item()\n",
    "print(\"Predicted label:\", prediction)"
   ]
  },
  {
   "cell_type": "code",
   "execution_count": 20,
   "metadata": {},
   "outputs": [
    {
     "name": "stdout",
     "output_type": "stream",
     "text": [
      "Predicted label: sports\n"
     ]
    }
   ],
   "source": [
    "labels = {\n",
    "    0: \"music\",\n",
    "    1: \"mathematics\",\n",
    "    2: \"nature\",\n",
    "    3: \"philosophy\",\n",
    "    4: \"politics\",\n",
    "    5: \"law\",\n",
    "    6: \"foods\",\n",
    "    7: \"culture\",\n",
    "    8: \"science\",\n",
    "    9: \"business\",\n",
    "    10: \"history\",\n",
    "    11: \"videogames\",\n",
    "    12: \"disasters\",\n",
    "    13: \"geography\",\n",
    "    14: \"technology\",\n",
    "    15: \"medicine\",\n",
    "    16: \"economics\",\n",
    "    17: \"entertainment\",\n",
    "    18: \"sports\",\n",
    "    19: \"religion\",\n",
    "    20: \"education\",\n",
    "    21: \"news\",\n",
    "    22: \"computerscience\"\n",
    "  }\n",
    "\n",
    "  #write me a tweet\n",
    "text = \"I am Calum. I like football and my favourite team is Arsenal\"\n",
    "inputs = tokenizer(text, return_tensors=\"pt\")\n",
    "outputs = model(**inputs)\n",
    "\n",
    "#get the predicted label\n",
    "prediction = outputs.logits.argmax().item()\n",
    "print(\"Predicted label:\", labels[prediction])"
   ]
  }
 ],
 "metadata": {
  "kernelspec": {
   "display_name": "venv",
   "language": "python",
   "name": "python3"
  },
  "language_info": {
   "codemirror_mode": {
    "name": "ipython",
    "version": 3
   },
   "file_extension": ".py",
   "mimetype": "text/x-python",
   "name": "python",
   "nbconvert_exporter": "python",
   "pygments_lexer": "ipython3",
   "version": "3.10.6"
  },
  "orig_nbformat": 4,
  "vscode": {
   "interpreter": {
    "hash": "97999f904c5bcf44446ad9fa0f3977d04350a64ad2233c4cf3d5a942bd2f4055"
   }
  }
 },
 "nbformat": 4,
 "nbformat_minor": 2
}
