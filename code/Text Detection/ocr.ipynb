{
 "cells": [
  {
   "cell_type": "code",
   "execution_count": 1,
   "metadata": {},
   "outputs": [],
   "source": [
    "#import libraries for keras-ocr\n",
    "from keras_ocr.detection import Detector\n",
    "from keras_ocr.pipeline import Pipeline\n",
    "from keras_ocr.recognition import Recognizer\n",
    "from keras_ocr.tools import read\n"
   ]
  },
  {
   "cell_type": "code",
   "execution_count": 2,
   "metadata": {},
   "outputs": [],
   "source": [
    "# imports for getting the image\n",
    "import cv2\n",
    "import numpy as np\n",
    "import matplotlib.pyplot as plt\n"
   ]
  },
  {
   "cell_type": "code",
   "execution_count": 4,
   "metadata": {},
   "outputs": [
    {
     "name": "stdout",
     "output_type": "stream",
     "text": [
      "Looking for C:\\Users\\jfitz\\.keras-ocr\\craft_mlt_25k.h5\n",
      "Looking for C:\\Users\\jfitz\\.keras-ocr\\crnn_kurapan.h5\n",
      "1/1 [==============================] - 12s 12s/step\n",
      "1/1 [==============================] - 5s 5s/step\n"
     ]
    },
    {
     "data": {
      "text/plain": [
       "['5',\n",
       " 'mph',\n",
       " 'one',\n",
       " 'way',\n",
       " 'sample',\n",
       " 'text',\n",
       " 'photo',\n",
       " 'another',\n",
       " 'sample',\n",
       " 'text',\n",
       " 'colored',\n",
       " 'sample',\n",
       " 'text',\n",
       " 'the',\n",
       " 'share',\n",
       " 'road']"
      ]
     },
     "execution_count": 4,
     "metadata": {},
     "output_type": "execute_result"
    }
   ],
   "source": [
    "# Load the detector\n",
    "detector = Detector()\n",
    "\n",
    "# Load the recognizer\n",
    "recognizer = Recognizer()\n",
    "\n",
    "# Load the pipeline\n",
    "pipeline = Pipeline(detector=detector, recognizer=recognizer)\n",
    "\n",
    "# Load the image\n",
    "image = read('test.png')\n",
    "\n",
    "# Get the predictions\n",
    "predictions = pipeline.recognize([image])[0]\n",
    "\n",
    "list(map(lambda x: x[0], predictions))\n"
   ]
  }
 ],
 "metadata": {
  "kernelspec": {
   "display_name": "venv",
   "language": "python",
   "name": "python3"
  },
  "language_info": {
   "codemirror_mode": {
    "name": "ipython",
    "version": 3
   },
   "file_extension": ".py",
   "mimetype": "text/x-python",
   "name": "python",
   "nbconvert_exporter": "python",
   "pygments_lexer": "ipython3",
   "version": "3.10.6"
  },
  "orig_nbformat": 4,
  "vscode": {
   "interpreter": {
    "hash": "97999f904c5bcf44446ad9fa0f3977d04350a64ad2233c4cf3d5a942bd2f4055"
   }
  }
 },
 "nbformat": 4,
 "nbformat_minor": 2
}
