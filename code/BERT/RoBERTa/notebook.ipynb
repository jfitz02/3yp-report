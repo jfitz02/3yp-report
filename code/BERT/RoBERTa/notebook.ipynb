{
 "cells": [
  {
   "cell_type": "code",
   "execution_count": 4,
   "metadata": {},
   "outputs": [
    {
     "name": "stdout",
     "output_type": "stream",
     "text": [
      "23\n"
     ]
    },
    {
     "data": {
      "text/html": [
       "<div>\n",
       "<style scoped>\n",
       "    .dataframe tbody tr th:only-of-type {\n",
       "        vertical-align: middle;\n",
       "    }\n",
       "\n",
       "    .dataframe tbody tr th {\n",
       "        vertical-align: top;\n",
       "    }\n",
       "\n",
       "    .dataframe thead th {\n",
       "        text-align: right;\n",
       "    }\n",
       "</style>\n",
       "<table border=\"1\" class=\"dataframe\">\n",
       "  <thead>\n",
       "    <tr style=\"text-align: right;\">\n",
       "      <th></th>\n",
       "      <th>Category</th>\n",
       "      <th>Sentence</th>\n",
       "    </tr>\n",
       "  </thead>\n",
       "  <tbody>\n",
       "    <tr>\n",
       "      <th>0</th>\n",
       "      <td>culture</td>\n",
       "      <td>indigenous woman chile teaches aymara ancestry...</td>\n",
       "    </tr>\n",
       "    <tr>\n",
       "      <th>1</th>\n",
       "      <td>culture</td>\n",
       "      <td>arabia difference etiquette wearing slippers l...</td>\n",
       "    </tr>\n",
       "    <tr>\n",
       "      <th>2</th>\n",
       "      <td>culture</td>\n",
       "      <td>slow look around patient means embracing thing...</td>\n",
       "    </tr>\n",
       "    <tr>\n",
       "      <th>3</th>\n",
       "      <td>culture</td>\n",
       "      <td>culturescountries outside usa western europe v...</td>\n",
       "    </tr>\n",
       "    <tr>\n",
       "      <th>4</th>\n",
       "      <td>culture</td>\n",
       "      <td>fake government birds heard right couldnt beli...</td>\n",
       "    </tr>\n",
       "  </tbody>\n",
       "</table>\n",
       "</div>"
      ],
      "text/plain": [
       "  Category                                           Sentence\n",
       "0  culture  indigenous woman chile teaches aymara ancestry...\n",
       "1  culture  arabia difference etiquette wearing slippers l...\n",
       "2  culture  slow look around patient means embracing thing...\n",
       "3  culture  culturescountries outside usa western europe v...\n",
       "4  culture  fake government birds heard right couldnt beli..."
      ]
     },
     "execution_count": 4,
     "metadata": {},
     "output_type": "execute_result"
    }
   ],
   "source": [
    "# get data\n",
    "import pandas as pd\n",
    "\n",
    "df = pd.read_csv('../testdata/data_combined_24.csv', sep=',', names=[\"Category\", \"Sentence\"])\n",
    "\n",
    "# print number of different categories\n",
    "print(len(df['Category'].unique()))\n",
    "df.head()"
   ]
  },
  {
   "cell_type": "code",
   "execution_count": 5,
   "metadata": {},
   "outputs": [
    {
     "name": "stderr",
     "output_type": "stream",
     "text": [
      "c:\\Users\\jfitz\\OneDrive\\Documents\\3rd year project\\code\\venv\\lib\\site-packages\\tqdm\\auto.py:22: TqdmWarning: IProgress not found. Please update jupyter and ipywidgets. See https://ipywidgets.readthedocs.io/en/stable/user_install.html\n",
      "  from .autonotebook import tqdm as notebook_tqdm\n"
     ]
    },
    {
     "data": {
      "text/html": [
       "<div>\n",
       "<style scoped>\n",
       "    .dataframe tbody tr th:only-of-type {\n",
       "        vertical-align: middle;\n",
       "    }\n",
       "\n",
       "    .dataframe tbody tr th {\n",
       "        vertical-align: top;\n",
       "    }\n",
       "\n",
       "    .dataframe thead th {\n",
       "        text-align: right;\n",
       "    }\n",
       "</style>\n",
       "<table border=\"1\" class=\"dataframe\">\n",
       "  <thead>\n",
       "    <tr style=\"text-align: right;\">\n",
       "      <th></th>\n",
       "      <th>text</th>\n",
       "      <th>target</th>\n",
       "    </tr>\n",
       "  </thead>\n",
       "  <tbody>\n",
       "    <tr>\n",
       "      <th>28277</th>\n",
       "      <td>nutrisystem diet the dietary element of the we...</td>\n",
       "      <td>foods</td>\n",
       "    </tr>\n",
       "    <tr>\n",
       "      <th>30499</th>\n",
       "      <td>instead it concentrates on wider regions and z...</td>\n",
       "      <td>nature</td>\n",
       "    </tr>\n",
       "    <tr>\n",
       "      <th>29665</th>\n",
       "      <td>the destabilization of mercurys orbit is unlik...</td>\n",
       "      <td>disasters</td>\n",
       "    </tr>\n",
       "    <tr>\n",
       "      <th>30587</th>\n",
       "      <td>this book is an all encompassing guide and enc...</td>\n",
       "      <td>nature</td>\n",
       "    </tr>\n",
       "    <tr>\n",
       "      <th>34541</th>\n",
       "      <td>each of them so far as it is exchange value mu...</td>\n",
       "      <td>economics</td>\n",
       "    </tr>\n",
       "  </tbody>\n",
       "</table>\n",
       "</div>"
      ],
      "text/plain": [
       "                                                    text     target\n",
       "28277  nutrisystem diet the dietary element of the we...      foods\n",
       "30499  instead it concentrates on wider regions and z...     nature\n",
       "29665  the destabilization of mercurys orbit is unlik...  disasters\n",
       "30587  this book is an all encompassing guide and enc...     nature\n",
       "34541  each of them so far as it is exchange value mu...  economics"
      ]
     },
     "execution_count": 5,
     "metadata": {},
     "output_type": "execute_result"
    }
   ],
   "source": [
    "# create RoBERTa model\n",
    "import gc\n",
    "import numpy as np\n",
    "\n",
    "from sklearn.model_selection import StratifiedKFold\n",
    "import tensorflow as tf\n",
    "\n",
    "#find import for TFSequenceClassifierOutput\n",
    "\n",
    "\n",
    "from transformers import RobertaTokenizer, RobertaConfig, TFRobertaPreTrainedModel\n",
    "from transformers.models.roberta import TFRobertaMainLayer\n",
    "from transformers.modeling_tf_utils import get_initializer\n",
    "from transformers.modeling_tf_outputs import TFSequenceClassifierOutput\n",
    "\n",
    "MODEL_NAME = 'roberta-base'\n",
    "MAX_LEN = 128\n",
    "tokenizer = RobertaTokenizer.from_pretrained(MODEL_NAME)\n",
    "\n",
    "#split data into train and test\n",
    "from sklearn.model_selection import train_test_split\n",
    "\n",
    "X_train, X_test, y_train, y_test = train_test_split(df.Sentence, df.Category, test_size=0.2, random_state=42, stratify=df.Category)\n",
    "\n",
    "# create df combining X and y\n",
    "train_df = pd.DataFrame({'text': X_train, 'target': y_train})\n",
    "test_df = pd.DataFrame({'text': X_test, 'target': y_test})\n",
    "\n",
    "train_df.head()\n",
    "\n",
    "\n",
    "\n"
   ]
  },
  {
   "cell_type": "code",
   "execution_count": 6,
   "metadata": {},
   "outputs": [
    {
     "data": {
      "text/html": [
       "<div>\n",
       "<style scoped>\n",
       "    .dataframe tbody tr th:only-of-type {\n",
       "        vertical-align: middle;\n",
       "    }\n",
       "\n",
       "    .dataframe tbody tr th {\n",
       "        vertical-align: top;\n",
       "    }\n",
       "\n",
       "    .dataframe thead th {\n",
       "        text-align: right;\n",
       "    }\n",
       "</style>\n",
       "<table border=\"1\" class=\"dataframe\">\n",
       "  <thead>\n",
       "    <tr style=\"text-align: right;\">\n",
       "      <th></th>\n",
       "      <th>text</th>\n",
       "      <th>target</th>\n",
       "    </tr>\n",
       "  </thead>\n",
       "  <tbody>\n",
       "    <tr>\n",
       "      <th>28277</th>\n",
       "      <td>nutrisystem diet the dietary element of the we...</td>\n",
       "      <td>7</td>\n",
       "    </tr>\n",
       "    <tr>\n",
       "      <th>30499</th>\n",
       "      <td>instead it concentrates on wider regions and z...</td>\n",
       "      <td>14</td>\n",
       "    </tr>\n",
       "    <tr>\n",
       "      <th>29665</th>\n",
       "      <td>the destabilization of mercurys orbit is unlik...</td>\n",
       "      <td>3</td>\n",
       "    </tr>\n",
       "    <tr>\n",
       "      <th>30587</th>\n",
       "      <td>this book is an all encompassing guide and enc...</td>\n",
       "      <td>14</td>\n",
       "    </tr>\n",
       "    <tr>\n",
       "      <th>34541</th>\n",
       "      <td>each of them so far as it is exchange value mu...</td>\n",
       "      <td>4</td>\n",
       "    </tr>\n",
       "  </tbody>\n",
       "</table>\n",
       "</div>"
      ],
      "text/plain": [
       "                                                    text  target\n",
       "28277  nutrisystem diet the dietary element of the we...       7\n",
       "30499  instead it concentrates on wider regions and z...      14\n",
       "29665  the destabilization of mercurys orbit is unlik...       3\n",
       "30587  this book is an all encompassing guide and enc...      14\n",
       "34541  each of them so far as it is exchange value mu...       4"
      ]
     },
     "execution_count": 6,
     "metadata": {},
     "output_type": "execute_result"
    }
   ],
   "source": [
    "#map labels to numbers\n",
    "from sklearn.preprocessing import LabelEncoder\n",
    "\n",
    "le = LabelEncoder()\n",
    "train_df['target'] = le.fit_transform(train_df['target'])\n",
    "test_df['target'] = le.transform(test_df['target'])\n",
    "\n",
    "\n",
    "train_df.head()"
   ]
  },
  {
   "cell_type": "code",
   "execution_count": 7,
   "metadata": {},
   "outputs": [],
   "source": [
    "def to_tokens(input_text, tokenizer):\n",
    "    output = tokenizer.encode_plus(input_text, max_length=MAX_LEN, pad_to_max_length=True)\n",
    "    return output\n",
    "\n",
    "def select_field(features, field):\n",
    "    return [feature[field] for feature in features]"
   ]
  },
  {
   "cell_type": "code",
   "execution_count": 8,
   "metadata": {},
   "outputs": [
    {
     "name": "stderr",
     "output_type": "stream",
     "text": [
      "Truncation was not explicitly activated but `max_length` is provided a specific value, please use `truncation=True` to explicitly truncate examples to max length. Defaulting to 'longest_first' truncation strategy. If you encode pairs of sequences (GLUE-style) with the tokenizer you can select this strategy more precisely by providing a specific strategy to `truncation`.\n",
      "c:\\Users\\jfitz\\OneDrive\\Documents\\3rd year project\\code\\venv\\lib\\site-packages\\transformers\\tokenization_utils_base.py:2336: FutureWarning: The `pad_to_max_length` argument is deprecated and will be removed in a future version, use `padding=True` or `padding='longest'` to pad to the longest sequence in the batch, or use `padding='max_length'` to pad to a max length. In this case, you can give a specific length with `max_length` (e.g. `max_length=45`) or leave max_length to None to pad to the maximal input size of the model (e.g. 512 for Bert).\n",
      "  warnings.warn(\n"
     ]
    },
    {
     "data": {
      "text/plain": [
       "28277    [input_ids, attention_mask]\n",
       "30499    [input_ids, attention_mask]\n",
       "29665    [input_ids, attention_mask]\n",
       "30587    [input_ids, attention_mask]\n",
       "34541    [input_ids, attention_mask]\n",
       "Name: text, dtype: object"
      ]
     },
     "execution_count": 8,
     "metadata": {},
     "output_type": "execute_result"
    }
   ],
   "source": [
    "tokenizer_output_train = train_df[\"text\"].apply(lambda x: to_tokens(x, tokenizer))\n",
    "tokenizer_output_test = test_df[\"text\"].apply(lambda x: to_tokens(x, tokenizer))\n",
    "\n",
    "tokenizer_output_train.head()"
   ]
  },
  {
   "cell_type": "code",
   "execution_count": 9,
   "metadata": {},
   "outputs": [],
   "source": [
    "input_ids_train = np.array(select_field(tokenizer_output_train, 'input_ids'))\n",
    "attention_masks_train = np.array(select_field(tokenizer_output_train, 'attention_mask'))\n",
    "\n",
    "input_ids_test = np.array(select_field(tokenizer_output_test, 'input_ids'))\n",
    "attention_masks_test = np.array(select_field(tokenizer_output_test, 'attention_mask'))"
   ]
  },
  {
   "cell_type": "code",
   "execution_count": 10,
   "metadata": {},
   "outputs": [],
   "source": [
    "# create model\n",
    "class TFRobertaForSequenceClassification(TFRobertaPreTrainedModel):\n",
    "    def __init__(self, config, *inputs, **kwargs):\n",
    "        super(TFRobertaForSequenceClassification, self).__init__(config, *inputs, **kwargs)\n",
    "        self.num_labels = 23\n",
    "        self.roberta = TFRobertaMainLayer(config, name=\"roberta\")\n",
    "        self.dropout_1 = tf.keras.layers.Dropout(0.3)\n",
    "        self.classifier = tf.keras.layers.Dense(units=23,\n",
    "                                                name='classifier', \n",
    "                                                kernel_initializer=get_initializer(\n",
    "                                                    config.initializer_range))\n",
    "\n",
    "    def call(self, inputs, **kwargs):\n",
    "        outputs = self.roberta(inputs, **kwargs)\n",
    "        pooled_output = outputs[1]\n",
    "        pooled_output = self.dropout_1(pooled_output, training=kwargs.get('training', False))\n",
    "        logits = self.classifier(pooled_output)\n",
    "        print(inputs)\n",
    "        print(\"logits\", logits)\n",
    "\n",
    "        return TFSequenceClassifierOutput(\n",
    "            loss=None,\n",
    "            logits=logits,\n",
    "            hidden_states=outputs.hidden_states,\n",
    "            attentions=outputs.attentions,\n",
    "            )\n"
   ]
  },
  {
   "cell_type": "code",
   "execution_count": 11,
   "metadata": {},
   "outputs": [],
   "source": [
    "def init_model(model_name):\n",
    "    config = RobertaConfig.from_pretrained(model_name, num_labels=23)\n",
    "    model = TFRobertaForSequenceClassification.from_pretrained(model_name)\n",
    "    optimizer = tf.keras.optimizers.Adam(learning_rate=3e-5, epsilon=1e-08, clipnorm=1.0)\n",
    "    loss = tf.keras.losses.CategoricalCrossentropy(from_logits=True)\n",
    "    metric = tf.keras.metrics.BinaryAccuracy('accuracy')\n",
    "    model.compile(optimizer=optimizer, loss=loss, metrics=[metric])\n",
    "    return model"
   ]
  },
  {
   "cell_type": "code",
   "execution_count": 12,
   "metadata": {},
   "outputs": [
    {
     "ename": "AttributeError",
     "evalue": "Exception encountered when calling layer \"tf_roberta_for_sequence_classification\" \"                 f\"(type TFRobertaForSequenceClassification).\n\n'dict' object has no attribute 'shape'\n\nCall arguments received by layer \"tf_roberta_for_sequence_classification\" \"                 f\"(type TFRobertaForSequenceClassification):\n  • inputs={'input_ids': 'tf.Tensor(shape=(3, 5), dtype=int32)'}\n  • kwargs={'training': 'None'}",
     "output_type": "error",
     "traceback": [
      "\u001b[1;31m---------------------------------------------------------------------------\u001b[0m",
      "\u001b[1;31mAttributeError\u001b[0m                            Traceback (most recent call last)",
      "Cell \u001b[1;32mIn[12], line 17\u001b[0m\n\u001b[0;32m     14\u001b[0m attention_masks_test \u001b[39m=\u001b[39m attention_masks_test[:\u001b[39m-\u001b[39m\u001b[39mdivmod\u001b[39m(attention_masks_test\u001b[39m.\u001b[39mshape[\u001b[39m0\u001b[39m],\n\u001b[0;32m     15\u001b[0m                                                                                 BATCH_SIZE)[\u001b[39m1\u001b[39m]]\n\u001b[0;32m     16\u001b[0m y_train \u001b[39m=\u001b[39m y_train[:\u001b[39m-\u001b[39m\u001b[39mdivmod\u001b[39m(y_train\u001b[39m.\u001b[39mshape[\u001b[39m0\u001b[39m], BATCH_SIZE)[\u001b[39m1\u001b[39m]]\n\u001b[1;32m---> 17\u001b[0m model \u001b[39m=\u001b[39m init_model(MODEL_NAME)\n\u001b[0;32m     18\u001b[0m \u001b[39mprint\u001b[39m(model\u001b[39m.\u001b[39msummary())\n\u001b[0;32m     20\u001b[0m model\u001b[39m.\u001b[39mfit([X_train, attention_masks_train], y_train, \n\u001b[0;32m     21\u001b[0m             validation_data\u001b[39m=\u001b[39m([X_test, attention_masks_test], y_test), \n\u001b[0;32m     22\u001b[0m             batch_size\u001b[39m=\u001b[39mBATCH_SIZE, epochs\u001b[39m=\u001b[39mEPOCHS, verbose\u001b[39m=\u001b[39m\u001b[39m1\u001b[39m)\n",
      "Cell \u001b[1;32mIn[11], line 3\u001b[0m, in \u001b[0;36minit_model\u001b[1;34m(model_name)\u001b[0m\n\u001b[0;32m      1\u001b[0m \u001b[39mdef\u001b[39;00m \u001b[39minit_model\u001b[39m(model_name):\n\u001b[0;32m      2\u001b[0m     config \u001b[39m=\u001b[39m RobertaConfig\u001b[39m.\u001b[39mfrom_pretrained(model_name, num_labels\u001b[39m=\u001b[39m\u001b[39m23\u001b[39m)\n\u001b[1;32m----> 3\u001b[0m     model \u001b[39m=\u001b[39m TFRobertaForSequenceClassification\u001b[39m.\u001b[39;49mfrom_pretrained(model_name)\n\u001b[0;32m      4\u001b[0m     optimizer \u001b[39m=\u001b[39m tf\u001b[39m.\u001b[39mkeras\u001b[39m.\u001b[39moptimizers\u001b[39m.\u001b[39mAdam(learning_rate\u001b[39m=\u001b[39m\u001b[39m3e-5\u001b[39m, epsilon\u001b[39m=\u001b[39m\u001b[39m1e-08\u001b[39m, clipnorm\u001b[39m=\u001b[39m\u001b[39m1.0\u001b[39m)\n\u001b[0;32m      5\u001b[0m     loss \u001b[39m=\u001b[39m tf\u001b[39m.\u001b[39mkeras\u001b[39m.\u001b[39mlosses\u001b[39m.\u001b[39mCategoricalCrossentropy(from_logits\u001b[39m=\u001b[39m\u001b[39mTrue\u001b[39;00m)\n",
      "File \u001b[1;32mc:\\Users\\jfitz\\OneDrive\\Documents\\3rd year project\\code\\venv\\lib\\site-packages\\transformers\\modeling_tf_utils.py:2734\u001b[0m, in \u001b[0;36mTFPreTrainedModel.from_pretrained\u001b[1;34m(cls, pretrained_model_name_or_path, *model_args, **kwargs)\u001b[0m\n\u001b[0;32m   2732\u001b[0m         model(model\u001b[39m.\u001b[39mdummy_inputs)  \u001b[39m# build the network with dummy inputs\u001b[39;00m\n\u001b[0;32m   2733\u001b[0m \u001b[39melse\u001b[39;00m:\n\u001b[1;32m-> 2734\u001b[0m     model(model\u001b[39m.\u001b[39;49mdummy_inputs)  \u001b[39m# build the network with dummy inputs\u001b[39;00m\n\u001b[0;32m   2736\u001b[0m \u001b[39m# 'by_name' allow us to do transfer learning by skipping/adding layers\u001b[39;00m\n\u001b[0;32m   2737\u001b[0m \u001b[39m# see https://github.com/tensorflow/tensorflow/blob/00fad90125b18b80fe054de1055770cfb8fe4ba3/tensorflow/python/keras/engine/network.py#L1339-L1357\u001b[39;00m\n\u001b[0;32m   2738\u001b[0m \u001b[39mtry\u001b[39;00m:\n",
      "File \u001b[1;32mc:\\Users\\jfitz\\OneDrive\\Documents\\3rd year project\\code\\venv\\lib\\site-packages\\keras\\utils\\traceback_utils.py:70\u001b[0m, in \u001b[0;36mfilter_traceback.<locals>.error_handler\u001b[1;34m(*args, **kwargs)\u001b[0m\n\u001b[0;32m     67\u001b[0m     filtered_tb \u001b[39m=\u001b[39m _process_traceback_frames(e\u001b[39m.\u001b[39m__traceback__)\n\u001b[0;32m     68\u001b[0m     \u001b[39m# To get the full stack trace, call:\u001b[39;00m\n\u001b[0;32m     69\u001b[0m     \u001b[39m# `tf.debugging.disable_traceback_filtering()`\u001b[39;00m\n\u001b[1;32m---> 70\u001b[0m     \u001b[39mraise\u001b[39;00m e\u001b[39m.\u001b[39mwith_traceback(filtered_tb) \u001b[39mfrom\u001b[39;00m \u001b[39mNone\u001b[39m\n\u001b[0;32m     71\u001b[0m \u001b[39mfinally\u001b[39;00m:\n\u001b[0;32m     72\u001b[0m     \u001b[39mdel\u001b[39;00m filtered_tb\n",
      "Cell \u001b[1;32mIn[10], line 18\u001b[0m, in \u001b[0;36mTFRobertaForSequenceClassification.call\u001b[1;34m(self, inputs, **kwargs)\u001b[0m\n\u001b[0;32m     16\u001b[0m pooled_output \u001b[39m=\u001b[39m \u001b[39mself\u001b[39m\u001b[39m.\u001b[39mdropout_1(pooled_output, training\u001b[39m=\u001b[39mkwargs\u001b[39m.\u001b[39mget(\u001b[39m'\u001b[39m\u001b[39mtraining\u001b[39m\u001b[39m'\u001b[39m, \u001b[39mFalse\u001b[39;00m))\n\u001b[0;32m     17\u001b[0m logits \u001b[39m=\u001b[39m \u001b[39mself\u001b[39m\u001b[39m.\u001b[39mclassifier(pooled_output)\n\u001b[1;32m---> 18\u001b[0m \u001b[39mprint\u001b[39m(inputs\u001b[39m.\u001b[39;49mshape)\n\u001b[0;32m     19\u001b[0m \u001b[39mprint\u001b[39m(\u001b[39m\"\u001b[39m\u001b[39mlogits\u001b[39m\u001b[39m\"\u001b[39m, logits)\n\u001b[0;32m     21\u001b[0m \u001b[39mreturn\u001b[39;00m TFSequenceClassifierOutput(\n\u001b[0;32m     22\u001b[0m     loss\u001b[39m=\u001b[39m\u001b[39mNone\u001b[39;00m,\n\u001b[0;32m     23\u001b[0m     logits\u001b[39m=\u001b[39mlogits,\n\u001b[0;32m     24\u001b[0m     hidden_states\u001b[39m=\u001b[39moutputs\u001b[39m.\u001b[39mhidden_states,\n\u001b[0;32m     25\u001b[0m     attentions\u001b[39m=\u001b[39moutputs\u001b[39m.\u001b[39mattentions,\n\u001b[0;32m     26\u001b[0m     )\n",
      "\u001b[1;31mAttributeError\u001b[0m: Exception encountered when calling layer \"tf_roberta_for_sequence_classification\" \"                 f\"(type TFRobertaForSequenceClassification).\n\n'dict' object has no attribute 'shape'\n\nCall arguments received by layer \"tf_roberta_for_sequence_classification\" \"                 f\"(type TFRobertaForSequenceClassification):\n  • inputs={'input_ids': 'tf.Tensor(shape=(3, 5), dtype=int32)'}\n  • kwargs={'training': 'None'}"
     ]
    }
   ],
   "source": [
    "BATCH_SIZE = 16\n",
    "EPOCHS = 10\n",
    "SPLITS = 5\n",
    "\n",
    "y_train = tf.keras.utils.to_categorical(train_df['target'].values.reshape(-1, 1))\n",
    "X_train = input_ids_train\n",
    "X_test = input_ids_test\n",
    "attention_masks_train = attention_masks_train\n",
    "attention_masks_test = attention_masks_test\n",
    "X_train = X_train[:-divmod(X_train.shape[0], BATCH_SIZE)[1]]\n",
    "X_test = X_test[:-divmod(X_test.shape[0], BATCH_SIZE)[1]]\n",
    "attention_masks_train = attention_masks_train[:-divmod(attention_masks_train.shape[0], \n",
    "                                                                                BATCH_SIZE)[1]]\n",
    "attention_masks_test = attention_masks_test[:-divmod(attention_masks_test.shape[0],\n",
    "                                                                                BATCH_SIZE)[1]]\n",
    "y_train = y_train[:-divmod(y_train.shape[0], BATCH_SIZE)[1]]\n",
    "model = init_model(MODEL_NAME)\n",
    "print(model.summary())\n",
    "\n",
    "model.fit([X_train, attention_masks_train], y_train, \n",
    "            validation_data=([X_test, attention_masks_test], y_test), \n",
    "            batch_size=BATCH_SIZE, epochs=EPOCHS, verbose=1)"
   ]
  }
 ],
 "metadata": {
  "kernelspec": {
   "display_name": "venv",
   "language": "python",
   "name": "python3"
  },
  "language_info": {
   "codemirror_mode": {
    "name": "ipython",
    "version": 3
   },
   "file_extension": ".py",
   "mimetype": "text/x-python",
   "name": "python",
   "nbconvert_exporter": "python",
   "pygments_lexer": "ipython3",
   "version": "3.10.6"
  },
  "orig_nbformat": 4,
  "vscode": {
   "interpreter": {
    "hash": "97999f904c5bcf44446ad9fa0f3977d04350a64ad2233c4cf3d5a942bd2f4055"
   }
  }
 },
 "nbformat": 4,
 "nbformat_minor": 2
}
