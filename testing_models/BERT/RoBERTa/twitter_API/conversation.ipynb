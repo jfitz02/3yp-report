{
 "cells": [
  {
   "cell_type": "code",
   "execution_count": 32,
   "metadata": {},
   "outputs": [
    {
     "name": "stdout",
     "output_type": "stream",
     "text": [
      "Response(data=<Tweet id=1624689761636999168 text='@FeldenkraisMi @markeatsmeat It’s more for the charcoal that aggravates my hands.'>, includes={'users': [<User id=25849016 name=Jacks Meat Shack username=JACKROWBOTTOM>, <User id=1327506575863410688 name=DaleDickins username=FeldenkraisMi>], 'tweets': [<Tweet id=1624556045212475394 text='@JACKROWBOTTOM @markeatsmeat just right..\\nand why handle meat with gloves?'>]}, errors=[], meta={})\n",
      "1624472877356486660\n"
     ]
    }
   ],
   "source": [
    "import tweepy\n",
    "\n",
    "token_dict = {}\n",
    "with open(\"pass.secret\", 'r') as f:\n",
    "    for line in f:\n",
    "        parts = line.split(\"=\")\n",
    "        token_dict[parts[0].strip()] = parts[1].strip()\n",
    "\n",
    "api = tweepy.Client(token_dict[\"bearer_token\"], consumer_key=token_dict[\"consumer_key\"],\n",
    "                    consumer_secret=token_dict[\"consumer_secret\"], access_token=token_dict[\"access_token\"],\n",
    "                    access_token_secret=token_dict[\"access_token_secret\"])\n",
    "\n",
    "tweet = api.get_tweet(1624689761636999168, tweet_fields=[\"author_id\",\"conversation_id\",\"in_reply_to_user_id\",\"referenced_tweets\"],\n",
    "                                            expansions=[\"author_id\", \"in_reply_to_user_id\", \"referenced_tweets.id\"])\n",
    "\n",
    "print(tweet)\n",
    "\n",
    "print(tweet[0][\"conversation_id\"])"
   ]
  },
  {
   "cell_type": "code",
   "execution_count": 33,
   "metadata": {},
   "outputs": [
    {
     "name": "stdout",
     "output_type": "stream",
     "text": [
      "Response(data=[<Tweet id=1624914678727028739 text='@Iz77491 Glorious'>, <Tweet id=1624825379889479680 text='@JACKROWBOTTOM How was the mouthfeel/chew?'>, <Tweet id=1624774206389878785 text=\"@JACKROWBOTTOM Just right.  *chef's kiss*\">, <Tweet id=1624764500099358721 text='@JACKROWBOTTOM 👌'>, <Tweet id=1624758757728178177 text='@JACKROWBOTTOM Perfect!'>, <Tweet id=1624747971622338560 text='@JACKROWBOTTOM That is a work of art sir!'>, <Tweet id=1624705500297441280 text='@JACKROWBOTTOM @markeatsmeat aahhh OK.'>, <Tweet id=1624689761636999168 text='@FeldenkraisMi @markeatsmeat It’s more for the charcoal that aggravates my hands.'>, <Tweet id=1624682623569125383 text='@JACKROWBOTTOM Perfect!'>, <Tweet id=1624556045212475394 text='@JACKROWBOTTOM @markeatsmeat just right..\\nand why handle meat with gloves?'>], includes={}, errors=[], meta={'newest_id': '1624914678727028739', 'oldest_id': '1624556045212475394', 'result_count': 10, 'next_token': 'b26v89c19zqg8o3fqk70t3y3l5rn9zsk7ha9262yxbat9'})\n",
      "@JACKROWBOTTOM 👌\n",
      "[<Tweet id=1624914678727028739 text='@Iz77491 Glorious'>, <Tweet id=1624825379889479680 text='@JACKROWBOTTOM How was the mouthfeel/chew?'>, <Tweet id=1624774206389878785 text=\"@JACKROWBOTTOM Just right.  *chef's kiss*\">, <Tweet id=1624764500099358721 text='@JACKROWBOTTOM 👌'>, <Tweet id=1624758757728178177 text='@JACKROWBOTTOM Perfect!'>, <Tweet id=1624747971622338560 text='@JACKROWBOTTOM That is a work of art sir!'>, <Tweet id=1624705500297441280 text='@JACKROWBOTTOM @markeatsmeat aahhh OK.'>, <Tweet id=1624689761636999168 text='@FeldenkraisMi @markeatsmeat It’s more for the charcoal that aggravates my hands.'>, <Tweet id=1624682623569125383 text='@JACKROWBOTTOM Perfect!'>, <Tweet id=1624556045212475394 text='@JACKROWBOTTOM @markeatsmeat just right..\\nand why handle meat with gloves?'>]\n"
     ]
    }
   ],
   "source": [
    "response = api.search_recent_tweets(\"conversation_id:1624472877356486660\",\n",
    "            tweet_fields=[\n",
    "                \"author_id\",\n",
    "                \"created_at\"\n",
    "            ])\n",
    "            #1619006841367524481\n",
    "\n",
    "print(response)\n",
    "\n",
    "print(response[0][3])\n",
    "print(response.data)"
   ]
  },
  {
   "cell_type": "code",
   "execution_count": null,
   "metadata": {},
   "outputs": [],
   "source": []
  }
 ],
 "metadata": {
  "kernelspec": {
   "display_name": "venv",
   "language": "python",
   "name": "python3"
  },
  "language_info": {
   "codemirror_mode": {
    "name": "ipython",
    "version": 3
   },
   "file_extension": ".py",
   "mimetype": "text/x-python",
   "name": "python",
   "nbconvert_exporter": "python",
   "pygments_lexer": "ipython3",
   "version": "3.10.6"
  },
  "orig_nbformat": 4,
  "vscode": {
   "interpreter": {
    "hash": "97999f904c5bcf44446ad9fa0f3977d04350a64ad2233c4cf3d5a942bd2f4055"
   }
  }
 },
 "nbformat": 4,
 "nbformat_minor": 2
}
